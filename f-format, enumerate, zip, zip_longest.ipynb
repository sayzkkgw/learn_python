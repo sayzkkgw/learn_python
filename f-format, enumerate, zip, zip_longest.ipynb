{
 "metadata": {
  "language_info": {
   "codemirror_mode": {
    "name": "ipython",
    "version": 3
   },
   "file_extension": ".py",
   "mimetype": "text/x-python",
   "name": "python",
   "nbconvert_exporter": "python",
   "pygments_lexer": "ipython3",
   "version": "3.7.4-final"
  },
  "orig_nbformat": 2,
  "kernelspec": {
   "name": "python_defaultSpec_1597656461297",
   "display_name": "Python 3.7.4 64-bit ('base': conda)"
  }
 },
 "nbformat": 4,
 "nbformat_minor": 2,
 "cells": [
  {
   "cell_type": "markdown",
   "metadata": {},
   "source": [
    "## f-format, enumerate, zip, zip_longest"
   ]
  },
  {
   "cell_type": "code",
   "execution_count": 1,
   "metadata": {},
   "outputs": [],
   "source": [
    "pantry = {'Apple': 10, 'Banana': 7, 'Orange': 19}"
   ]
  },
  {
   "cell_type": "code",
   "execution_count": 15,
   "metadata": {
    "tags": []
   },
   "outputs": [
    {
     "output_type": "stream",
     "name": "stdout",
     "text": "1:  Apple      =  10\n2:  Banana     =  7\n3:  Orange     =  19\n"
    }
   ],
   "source": [
    "for i, (item, count) in enumerate(pantry.items()):\n",
    "    print(\n",
    "        f'{i + 1}: ',\n",
    "        f'{item:10} = ',\n",
    "        f'{count}'\n",
    "    )"
   ]
  },
  {
   "cell_type": "code",
   "execution_count": 38,
   "metadata": {},
   "outputs": [],
   "source": [
    "snacks = [('bacon', 350), ('donut', 200), ('muffin', 100)]"
   ]
  },
  {
   "cell_type": "code",
   "execution_count": 49,
   "metadata": {
    "tags": []
   },
   "outputs": [
    {
     "output_type": "stream",
     "name": "stdout",
     "text": "#1: bacon     is 350 yen\n#2: donut     is 200 yen\n#3: muffin    is 100 yen\n"
    }
   ],
   "source": [
    "for rank, (item, price) in enumerate(snacks, 1):\n",
    "    print(f'#{rank}: {item:9} is {price} yen')"
   ]
  },
  {
   "cell_type": "code",
   "execution_count": 50,
   "metadata": {},
   "outputs": [],
   "source": [
    "names = ['JavaScript', 'Python', 'Lisp', 'Go']\n",
    "counts = [len(s) for s in names]"
   ]
  },
  {
   "cell_type": "code",
   "execution_count": 53,
   "metadata": {
    "tags": []
   },
   "outputs": [
    {
     "output_type": "stream",
     "name": "stdout",
     "text": "Max strings is JavaScript with length 10\n"
    }
   ],
   "source": [
    "max_count = 0\n",
    "for name, count in zip(names, counts):\n",
    "    if count > max_count:\n",
    "        longest_name = name\n",
    "        max_count = count\n",
    "print(f'Max strings is {longest_name} with length {max_count}')"
   ]
  },
  {
   "cell_type": "code",
   "execution_count": 54,
   "metadata": {},
   "outputs": [],
   "source": [
    "import itertools"
   ]
  },
  {
   "cell_type": "code",
   "execution_count": 57,
   "metadata": {},
   "outputs": [],
   "source": [
    "names.append('Objective-c')"
   ]
  },
  {
   "cell_type": "code",
   "execution_count": 61,
   "metadata": {
    "tags": []
   },
   "outputs": [
    {
     "output_type": "stream",
     "name": "stdout",
     "text": "JavaScript: 10\nPython: 6\nLisp: 4\nGo: 2\nObjective-c: None\n"
    }
   ],
   "source": [
    "for name, count in itertools.zip_longest(names, counts):\n",
    "    print(f'{name}: {count}')"
   ]
  },
  {
   "cell_type": "code",
   "execution_count": null,
   "metadata": {},
   "outputs": [],
   "source": []
  }
 ]
}